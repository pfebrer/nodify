{
 "cells": [
  {
   "cell_type": "markdown",
   "id": "00507ad7-7829-4d69-9d62-7d739c5de957",
   "metadata": {},
   "source": [
    "Introduction to nodes\n",
    "================\n",
    "\n",
    "The first thing to do if you want to create a node is to import the `Node` base class:"
   ]
  },
  {
   "cell_type": "markdown",
   "id": "14f63c04-b25a-44ad-aefe-4f455dcedf4d",
   "metadata": {},
   "source": [
    "## Your first node"
   ]
  },
  {
   "cell_type": "code",
   "execution_count": 1,
   "id": "5db9b1c1-962b-4854-8f7f-2e5b6a232814",
   "metadata": {},
   "outputs": [],
   "source": [
    "from nodify import Node"
   ]
  },
  {
   "cell_type": "markdown",
   "id": "4c7cf0ff-42f3-4039-b9e9-38833e2e6cc4",
   "metadata": {},
   "source": [
    "Let's say that after years of developing you have come up with a function that performs a very complex calculation:"
   ]
  },
  {
   "cell_type": "code",
   "execution_count": 2,
   "id": "6baf9e79-edbd-49ee-8106-711468e5b739",
   "metadata": {},
   "outputs": [],
   "source": [
    "def my_sum(a: int, b: int):\n",
    "    print(f\"SUMMING {a} + {b}\")\n",
    "    return a + b"
   ]
  },
  {
   "cell_type": "markdown",
   "id": "e5a4843a-dc86-477b-9b99-8d9f7dea5ed8",
   "metadata": {},
   "source": [
    "We have good news, you have already done the hardest part!\n",
    "\n",
    "Converting it to a node class is as simple as:"
   ]
  },
  {
   "cell_type": "code",
   "execution_count": 3,
   "id": "52943e5e-33fa-42df-8b37-f2d9d387f2fa",
   "metadata": {},
   "outputs": [],
   "source": [
    "my_sum = Node.from_func(my_sum)"
   ]
  },
  {
   "cell_type": "markdown",
   "id": "b5d9b514-b9c0-4532-878e-e41d48963e0c",
   "metadata": {},
   "source": [
    "<div class=\"alert alert-info\">\n",
    "    \n",
    "Using a decorator\n",
    "\n",
    "You can also use `Node.from_func` as a decorator:\n",
    "\n",
    "```python\n",
    "@Node.from_func\n",
    "def my_sum(a: int, b: int):\n",
    "    print(f\"SUMMING {a} + {b}\")\n",
    "    return a + b\n",
    "```\n",
    "\n",
    "</div>"
   ]
  },
  {
   "cell_type": "markdown",
   "id": "cf115128-be41-4d96-8fc3-60b1af35ae97",
   "metadata": {},
   "source": [
    "## Lazyness and updating\n",
    "\n",
    "There are some important differences between your normal function and the node that you have created:\n",
    "\n",
    "- Nodes **compute lazily**. That is, they only run when you explicitly ask for the result.\n",
    "- Node instances represent a computation. The **inputs of this computation can be updated to recompute the function**.\n",
    "- Nodes **support batching**.\n",
    "- Nodes **can be connected to other nodes** to create workflows.\n",
    "\n",
    "That is why when you call your new node class you will get a node instance, not directly the result:"
   ]
  },
  {
   "cell_type": "code",
   "execution_count": 4,
   "id": "a3f47adb-5a08-45f8-acc5-962780ed8b2a",
   "metadata": {},
   "outputs": [
    {
     "data": {
      "text/plain": [
       "<__main__.my_sum at 0x7f38380e88d0>"
      ]
     },
     "execution_count": 4,
     "metadata": {},
     "output_type": "execute_result"
    }
   ],
   "source": [
    "my_sum(2, 5)"
   ]
  },
  {
   "cell_type": "markdown",
   "id": "e800e627-cb38-4ec0-9338-c230368c4b72",
   "metadata": {},
   "source": [
    "If you want the result, you need to call `.get()` on it. This will trigger the computation."
   ]
  },
  {
   "cell_type": "code",
   "execution_count": 5,
   "id": "b0f71086-aba3-42a8-85fe-71c9d2613c7e",
   "metadata": {},
   "outputs": [
    {
     "name": "stdout",
     "output_type": "stream",
     "text": [
      "SUMMING 2 + 5\n"
     ]
    },
    {
     "data": {
      "text/plain": [
       "7"
      ]
     },
     "execution_count": 5,
     "metadata": {},
     "output_type": "execute_result"
    }
   ],
   "source": [
    "sum_value = my_sum(2, 5)\n",
    "\n",
    "sum_value.get()"
   ]
  },
  {
   "cell_type": "markdown",
   "id": "506d3b45-cf30-4b83-bf51-dfd5b05f7818",
   "metadata": {},
   "source": [
    "The result is then **stored in the node**. \n",
    "\n",
    "If you keep requesting it **the node will not need to recompute**, it will just return the result. You can see that the message is not printed:"
   ]
  },
  {
   "cell_type": "code",
   "execution_count": 6,
   "id": "be99c739-86eb-4a24-a0cb-787a1237db22",
   "metadata": {},
   "outputs": [
    {
     "data": {
      "text/plain": [
       "7"
      ]
     },
     "execution_count": 6,
     "metadata": {},
     "output_type": "execute_result"
    }
   ],
   "source": [
    "sum_value.get()"
   ]
  },
  {
   "cell_type": "markdown",
   "id": "180f953b-577c-4fd3-9c56-691b64f41132",
   "metadata": {},
   "source": [
    "You can update the inputs of a node by using the `update_inputs` method:"
   ]
  },
  {
   "cell_type": "code",
   "execution_count": 7,
   "id": "f52b1a83-299b-4209-8911-bd9cb4365fca",
   "metadata": {},
   "outputs": [
    {
     "data": {
      "text/plain": [
       "<__main__.my_sum at 0x7f38380eafd0>"
      ]
     },
     "execution_count": 7,
     "metadata": {},
     "output_type": "execute_result"
    }
   ],
   "source": [
    "sum_value.update_inputs(a=8)"
   ]
  },
  {
   "cell_type": "markdown",
   "id": "74c49f3c-a62b-4319-b9a2-a233a249463e",
   "metadata": {},
   "source": [
    "As you can see, the node hasn't recomputed anything yet. It will not do so until you request the result again!"
   ]
  },
  {
   "cell_type": "code",
   "execution_count": 8,
   "id": "ce05fc0d-336b-4806-9270-123cd45063bb",
   "metadata": {},
   "outputs": [
    {
     "name": "stdout",
     "output_type": "stream",
     "text": [
      "SUMMING 8 + 5\n"
     ]
    },
    {
     "data": {
      "text/plain": [
       "13"
      ]
     },
     "execution_count": 8,
     "metadata": {},
     "output_type": "execute_result"
    }
   ],
   "source": [
    "sum_value.get()"
   ]
  },
  {
   "cell_type": "markdown",
   "id": "2b645e71-9a9c-424c-9bc4-840656addc05",
   "metadata": {},
   "source": [
    "Linking nodes\n",
    "--------\n",
    "\n",
    "At this point, you might be asking yourself: *Why would I complicate my functions so much?*\n",
    "\n",
    "Well, the power of nodifying does not lie in each individual node, but the collective effect they acheive when they are connected.\n",
    "\n",
    "Let's say that our `sum_value` can be used to compute some other thing. E.g. a multiplication:"
   ]
  },
  {
   "cell_type": "code",
   "execution_count": 9,
   "id": "b9482ee7-2ca2-4a53-b4d7-7a4761391785",
   "metadata": {},
   "outputs": [],
   "source": [
    "@Node.from_func\n",
    "def my_multiplication(a: int, b: int):\n",
    "    print(f\"MULTIPLYING {a} * {b}\")\n",
    "    return a * b\n",
    "\n",
    "\n",
    "final_value = my_multiplication(sum_value, 4)"
   ]
  },
  {
   "cell_type": "markdown",
   "id": "fcaf6f75-c757-46d7-bb63-4c1b54602831",
   "metadata": {},
   "source": [
    "Again, no computation is performed until the result is explicitly requested:"
   ]
  },
  {
   "cell_type": "code",
   "execution_count": 10,
   "id": "3152606f-6d04-4062-8ed7-4a34281702d7",
   "metadata": {},
   "outputs": [
    {
     "name": "stdout",
     "output_type": "stream",
     "text": [
      "MULTIPLYING 13 * 4\n"
     ]
    },
    {
     "data": {
      "text/plain": [
       "52"
      ]
     },
     "execution_count": 10,
     "metadata": {},
     "output_type": "execute_result"
    }
   ],
   "source": [
    "final_value.get()"
   ]
  },
  {
   "cell_type": "markdown",
   "id": "42615a31-949a-4779-aa92-e3f0977955c3",
   "metadata": {},
   "source": [
    "We can now update the inputs of the first sum:"
   ]
  },
  {
   "cell_type": "code",
   "execution_count": 11,
   "id": "2cb6cf93-dd90-4ce0-ad7c-35a6fb3fcb26",
   "metadata": {},
   "outputs": [
    {
     "data": {
      "text/plain": [
       "<__main__.my_sum at 0x7f38380eafd0>"
      ]
     },
     "execution_count": 11,
     "metadata": {},
     "output_type": "execute_result"
    }
   ],
   "source": [
    "sum_value.update_inputs(a=2)"
   ]
  },
  {
   "cell_type": "markdown",
   "id": "1e8a5dfb-1396-447d-a806-d597b9478ea5",
   "metadata": {},
   "source": [
    "And requesting the final value will now trigger the recomputation of all outdated nodes on which it depends."
   ]
  },
  {
   "cell_type": "code",
   "execution_count": 12,
   "id": "d4feb07a-748a-4c49-9cbc-7368f43542c8",
   "metadata": {},
   "outputs": [
    {
     "name": "stdout",
     "output_type": "stream",
     "text": [
      "SUMMING 2 + 5\n",
      "MULTIPLYING 7 * 4\n"
     ]
    },
    {
     "data": {
      "text/plain": [
       "28"
      ]
     },
     "execution_count": 12,
     "metadata": {},
     "output_type": "execute_result"
    }
   ],
   "source": [
    "final_value.get()"
   ]
  },
  {
   "cell_type": "markdown",
   "id": "b25cf891-1644-4d33-80db-14dc9fde3d1c",
   "metadata": {},
   "source": [
    "Just like that, **you have created your first node graph**!!\n",
    "\n",
    "Computation context\n",
    "-------------------\n",
    "\n",
    "**The context of a node defines how the node behaves**, but not its result. You can, for example, update it so that it does not compute lazily.\n",
    "\n",
    "For example, by setting the context of our final value to `lazy=False`:"
   ]
  },
  {
   "cell_type": "code",
   "execution_count": 13,
   "id": "76c7d035-fdbf-4cf3-a747-b12c6a26b438",
   "metadata": {},
   "outputs": [],
   "source": [
    "final_value.context[\"lazy\"] = False"
   ]
  },
  {
   "cell_type": "markdown",
   "id": "770b781d-b0e7-4d76-8a33-cf44bf5af00e",
   "metadata": {},
   "source": [
    "We are telling it to **update as soon as it notices that it has become outdated**.\n",
    "\n",
    "A node can become outdated because one of its inputs has changed, but also because the inputs of the nodes on which it depends have changed. Since our final value depends on the sum value, if we update the inputs of the sum, everything will be recomputed."
   ]
  },
  {
   "cell_type": "code",
   "execution_count": 14,
   "id": "80f7da9f-1216-470d-9378-77d58ad558fe",
   "metadata": {},
   "outputs": [
    {
     "name": "stdout",
     "output_type": "stream",
     "text": [
      "SUMMING 3 + 5\n",
      "MULTIPLYING 8 * 4\n"
     ]
    },
    {
     "data": {
      "text/plain": [
       "<__main__.my_sum at 0x7f38380eafd0>"
      ]
     },
     "execution_count": 14,
     "metadata": {},
     "output_type": "execute_result"
    }
   ],
   "source": [
    "sum_value.update_inputs(a=3)"
   ]
  },
  {
   "cell_type": "markdown",
   "id": "96d36138-b73e-4fc4-b209-836158f71cdc",
   "metadata": {},
   "source": [
    "We also provide a context manager to modify the context temporarily:"
   ]
  },
  {
   "cell_type": "code",
   "execution_count": 15,
   "id": "2f7778f4-f053-404c-a75c-087e6dbf75bd",
   "metadata": {},
   "outputs": [],
   "source": [
    "from nodify import temporal_context\n",
    "\n",
    "with temporal_context(lazy=True):\n",
    "    sum_value.update_inputs(a=4)"
   ]
  },
  {
   "cell_type": "markdown",
   "id": "733119b0-fead-42e6-ae56-662eac23b49f",
   "metadata": {},
   "source": [
    "The nodes were told to be lazy within the context manager, so nothing has been recomputed as expected."
   ]
  },
  {
   "cell_type": "markdown",
   "id": "eeed1ba0-cd76-4bcf-b1e6-4476211f7736",
   "metadata": {},
   "source": [
    "Batching\n",
    "---------\n",
    "\n",
    "Another interesting fact is that nodes support batching. When they receive a batch (`nodify.Batch`), they also return a batch:"
   ]
  },
  {
   "cell_type": "code",
   "execution_count": 16,
   "id": "442f4ddd-0792-425e-ab5b-c88c8638778a",
   "metadata": {},
   "outputs": [
    {
     "name": "stdout",
     "output_type": "stream",
     "text": [
      "SUMMING 4 + 5\n",
      "MULTIPLYING 9 * 1\n",
      "MULTIPLYING 9 * 2\n"
     ]
    },
    {
     "data": {
      "text/plain": [
       "<__main__.my_multiplication at 0x7f383804a2d0>"
      ]
     },
     "execution_count": 16,
     "metadata": {},
     "output_type": "execute_result"
    }
   ],
   "source": [
    "from nodify import Batch\n",
    "\n",
    "factors = Batch(1, 2)\n",
    "\n",
    "final_value.update_inputs(b=factors)"
   ]
  },
  {
   "cell_type": "markdown",
   "id": "f07093a6-fcb5-4180-a6fd-47df9b066715",
   "metadata": {},
   "source": [
    "As you can see, the multiplication has been performed twice, but the sum just once. Batched computations are performed only when needed. This can come very handy in workflows to help save computation and memory!\n",
    "\n",
    "Now, if you get the result, you will get a batch:"
   ]
  },
  {
   "cell_type": "code",
   "execution_count": 17,
   "id": "8b20e1d1-d408-43e1-9655-5eaae239334f",
   "metadata": {},
   "outputs": [
    {
     "data": {
      "text/plain": [
       "<nodify.node.Batch at 0x7f383bfb2490>"
      ]
     },
     "execution_count": 17,
     "metadata": {},
     "output_type": "execute_result"
    }
   ],
   "source": [
    "final_value.get()"
   ]
  },
  {
   "cell_type": "markdown",
   "id": "459b4666-82bc-4155-80eb-321110f46771",
   "metadata": {},
   "source": [
    "Batches are also **propagated through the node graph**. Let's add yet another layer on top of our computation, a subtraction:"
   ]
  },
  {
   "cell_type": "code",
   "execution_count": 18,
   "id": "d35276d8-e743-40b3-a5ab-0d3649444686",
   "metadata": {},
   "outputs": [],
   "source": [
    "@Node.from_func\n",
    "def my_sub(a: int, b: int):\n",
    "    print(f\"SUBTRACTING {a} - {b}\")\n",
    "    return a - b\n",
    "\n",
    "\n",
    "shifted = my_sub(final_value, 1)"
   ]
  },
  {
   "cell_type": "markdown",
   "id": "ed237210-8560-4f21-81b7-afeadce5d57a",
   "metadata": {},
   "source": [
    "And ask for the result:"
   ]
  },
  {
   "cell_type": "code",
   "execution_count": 19,
   "id": "54adea7b-e707-4adc-a7c7-71a085f51c69",
   "metadata": {},
   "outputs": [
    {
     "name": "stdout",
     "output_type": "stream",
     "text": [
      "SUBTRACTING 9 - 1\n",
      "SUBTRACTING 18 - 1\n"
     ]
    },
    {
     "data": {
      "text/plain": [
       "<nodify.node.Batch at 0x7f3838101b90>"
      ]
     },
     "execution_count": 19,
     "metadata": {},
     "output_type": "execute_result"
    }
   ],
   "source": [
    "shifted.get()"
   ]
  },
  {
   "cell_type": "markdown",
   "id": "bf9b4f2a-e2a0-400d-8f87-09e3e0e7802a",
   "metadata": {},
   "source": [
    "You can retreive the values of a batch like:"
   ]
  },
  {
   "cell_type": "code",
   "execution_count": 20,
   "id": "6a148bcf-60e6-4512-a5bc-3cbd0a4eabd6",
   "metadata": {},
   "outputs": [
    {
     "data": {
      "text/plain": [
       "[8, 17]"
      ]
     },
     "execution_count": 20,
     "metadata": {},
     "output_type": "execute_result"
    }
   ],
   "source": [
    "list(shifted.get())"
   ]
  },
  {
   "cell_type": "markdown",
   "id": "2bd12fd3-8229-49e0-bb72-025f5a21e8d2",
   "metadata": {},
   "source": [
    "Batches can also interact with each other. Let's also pass a batch to the second argument of the subtraction:"
   ]
  },
  {
   "cell_type": "code",
   "execution_count": 21,
   "id": "a1fbd203-8ccf-4915-800f-39a9ef3ac7e3",
   "metadata": {},
   "outputs": [
    {
     "data": {
      "text/plain": [
       "<__main__.my_sub at 0x7f38381002d0>"
      ]
     },
     "execution_count": 21,
     "metadata": {},
     "output_type": "execute_result"
    }
   ],
   "source": [
    "shifts = Batch(1, 2)\n",
    "shifted.update_inputs(b=shifts)"
   ]
  },
  {
   "cell_type": "markdown",
   "id": "bfb6e976-7024-4774-98e2-cfb0958e9ba4",
   "metadata": {},
   "source": [
    "And get the result:"
   ]
  },
  {
   "cell_type": "code",
   "execution_count": 22,
   "id": "67d5aa80-db59-491d-b2f0-858f065830b5",
   "metadata": {},
   "outputs": [
    {
     "name": "stdout",
     "output_type": "stream",
     "text": [
      "SUBTRACTING 9 - 1\n",
      "SUBTRACTING 18 - 2\n"
     ]
    },
    {
     "data": {
      "text/plain": [
       "<nodify.node.Batch at 0x7f38380f6150>"
      ]
     },
     "execution_count": 22,
     "metadata": {},
     "output_type": "execute_result"
    }
   ],
   "source": [
    "shifted.get()"
   ]
  },
  {
   "cell_type": "markdown",
   "id": "15a17d6f-0b7e-4cac-954d-ec895f612b3f",
   "metadata": {},
   "source": [
    "As you can see the **batches have been zipped**. But we can change that behavior with, you've guessed it, context!"
   ]
  },
  {
   "cell_type": "code",
   "execution_count": 23,
   "id": "a658ebf4-1b33-416b-953b-04dc0f283177",
   "metadata": {},
   "outputs": [
    {
     "name": "stdout",
     "output_type": "stream",
     "text": [
      "MULTIPLYING 9 * 1\n",
      "MULTIPLYING 9 * 2\n",
      "SUBTRACTING 9 - 1\n",
      "SUBTRACTING 9 - 2\n",
      "SUBTRACTING 18 - 1\n",
      "SUBTRACTING 18 - 2\n"
     ]
    }
   ],
   "source": [
    "with temporal_context(batch_iter=\"product\"):\n",
    "    shifted.get()"
   ]
  },
  {
   "cell_type": "markdown",
   "id": "824080ea-b269-4153-b5b1-ae97da16a88b",
   "metadata": {},
   "source": [
    "And now the batches have interacted with a product, creating 4 results!"
   ]
  },
  {
   "cell_type": "markdown",
   "id": "2a65378b-ce39-47c1-8921-85c290e879e2",
   "metadata": {},
   "source": [
    "Implicit node creation\n",
    "----------------------\n",
    "\n",
    "Nodes will also be created if you perform operations on existing nodes:"
   ]
  },
  {
   "cell_type": "code",
   "execution_count": 25,
   "id": "3e24e4fa-028e-4f74-beb1-390e0500b65e",
   "metadata": {},
   "outputs": [
    {
     "data": {
      "text/plain": [
       "<nodify.node.Batch at 0x7f3821caa910>"
      ]
     },
     "execution_count": 25,
     "metadata": {},
     "output_type": "execute_result"
    }
   ],
   "source": [
    "implicit = shifted + 2\n",
    "implicit.get()"
   ]
  },
  {
   "cell_type": "markdown",
   "id": "f8e326f6-326b-4d7c-a81e-95b69e435f3c",
   "metadata": {},
   "source": [
    "This might come handy if you don't want to convert functions to nodes, you can use them directly to generate new nodes **as long as they only have operations in which the node can determine the behavior**. This includes:\n",
    "\n",
    "- Arithmetic operations.\n",
    "- Comparisons.\n",
    "- Getting items and getting attributes.\n",
    "- Numpy functions.\n",
    "\n",
    "It is particularly interesting to use `Constant` for that. Let's say that we have a function that we have imported from somewhere:"
   ]
  },
  {
   "cell_type": "code",
   "execution_count": 34,
   "id": "95f664b6-8275-44b3-a0cc-169733d256ce",
   "metadata": {},
   "outputs": [],
   "source": [
    "def some_function(a, b):\n",
    "    return a[0] + b == 3"
   ]
  },
  {
   "cell_type": "markdown",
   "id": "993aae30-3263-43de-a759-d832a928b0c2",
   "metadata": {},
   "source": [
    "Then we create a constant and pass it through it:"
   ]
  },
  {
   "cell_type": "code",
   "execution_count": 38,
   "id": "7448d67d-ebc7-4a42-a6c8-fd8f50af302b",
   "metadata": {},
   "outputs": [
    {
     "data": {
      "text/plain": [
       "<nodify.syntax_nodes.CompareNode at 0x7f38218fd690>"
      ]
     },
     "execution_count": 38,
     "metadata": {},
     "output_type": "execute_result"
    }
   ],
   "source": [
    "from nodify import Constant\n",
    "\n",
    "val = Constant([2, 3, 4])\n",
    "\n",
    "result = some_function(val, 3)\n",
    "result"
   ]
  },
  {
   "cell_type": "markdown",
   "id": "aaa2ac5f-58e2-46c4-9573-ebd9df718ebd",
   "metadata": {},
   "source": [
    "And now we have a node graph, we can just call get on the result node:"
   ]
  },
  {
   "cell_type": "code",
   "execution_count": 40,
   "id": "42d73dc2-2720-4e46-8341-661720ae7e32",
   "metadata": {},
   "outputs": [
    {
     "data": {
      "text/plain": [
       "False"
      ]
     },
     "execution_count": 40,
     "metadata": {},
     "output_type": "execute_result"
    }
   ],
   "source": [
    "result.get()"
   ]
  },
  {
   "cell_type": "markdown",
   "id": "6c1ac03b-d311-4799-9d22-f3965aad8601",
   "metadata": {},
   "source": [
    "Update the constant and get it again:"
   ]
  },
  {
   "cell_type": "code",
   "execution_count": 42,
   "id": "0069cc39-1dab-4f70-86f4-46c385a704de",
   "metadata": {},
   "outputs": [
    {
     "data": {
      "text/plain": [
       "True"
      ]
     },
     "execution_count": 42,
     "metadata": {},
     "output_type": "execute_result"
    }
   ],
   "source": [
    "val.update_inputs(value=[0, 2])\n",
    "result.get()"
   ]
  },
  {
   "cell_type": "markdown",
   "id": "4b835518-5028-40ef-ae9e-1534960edd76",
   "metadata": {},
   "source": [
    "You can even do that with batches:"
   ]
  },
  {
   "cell_type": "code",
   "execution_count": 47,
   "id": "54ec7806-1989-4bb7-91e7-b966259f8cdf",
   "metadata": {},
   "outputs": [
    {
     "data": {
      "text/plain": [
       "[False, False, False, True]"
      ]
     },
     "execution_count": 47,
     "metadata": {},
     "output_type": "execute_result"
    }
   ],
   "source": [
    "vals = Batch(0, 1, 2, 3)\n",
    "batched_result = some_function([0, 1], vals)\n",
    "list(batched_result.get())"
   ]
  },
  {
   "cell_type": "markdown",
   "id": "c3e4fcec-fc18-4527-aedb-45252a269a78",
   "metadata": {},
   "source": [
    "Graph to python code\n",
    "-------------------------\n",
    "\n",
    "Another useful feature of nodes is that you can convert all their tree to python code:"
   ]
  },
  {
   "cell_type": "code",
   "execution_count": 52,
   "id": "f24fadfb-2336-4338-b583-1add5ba851a5",
   "metadata": {},
   "outputs": [
    {
     "name": "stdout",
     "output_type": "stream",
     "text": [
      "def is_correct(obj=[0, 2]):\n",
      "    left = obj[0]\n",
      "\n",
      "    left_1 = left + 3\n",
      "\n",
      "    return left_1 == 3\n",
      "\n"
     ]
    }
   ],
   "source": [
    "from nodify.conversions import node_to_python_script\n",
    "\n",
    "code = node_to_python_script(result, as_function=True, function_name=\"is_correct\")\n",
    "\n",
    "print(code)"
   ]
  },
  {
   "cell_type": "markdown",
   "id": "2ed08d13-df37-41ac-a2e0-ce107a64ff0a",
   "metadata": {},
   "source": [
    "The variable names are not super meaningful (you can solve that), but it works :)\n",
    "\n",
    "Notice how in this node graph, the `b` argument of `some_function` was fixed to 3, that's why `b` is not an argument of the defined function, but instead its value is hardcoded."
   ]
  },
  {
   "cell_type": "code",
   "execution_count": null,
   "id": "5b6246fe-0ea7-4e18-9ce4-c94744da8611",
   "metadata": {},
   "outputs": [],
   "source": []
  }
 ],
 "metadata": {
  "kernelspec": {
   "display_name": "Python 3 (ipykernel)",
   "language": "python",
   "name": "python3"
  },
  "language_info": {
   "codemirror_mode": {
    "name": "ipython",
    "version": 3
   },
   "file_extension": ".py",
   "mimetype": "text/x-python",
   "name": "python",
   "nbconvert_exporter": "python",
   "pygments_lexer": "ipython3",
   "version": "3.11.8"
  }
 },
 "nbformat": 4,
 "nbformat_minor": 5
}
