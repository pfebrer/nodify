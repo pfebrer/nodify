{
 "cells": [
  {
   "cell_type": "markdown",
   "id": "ab557674",
   "metadata": {},
   "source": [
    "Nodes and workflows\n",
    "--------\n",
    "\n",
    "Nodes and workflows are a functionality within `sisl` that allows you to define functional workflows that are lazily computed in a very easy way. Some of the reasons that you might want to use the `sisl.nodes` framework are:\n",
    "\n",
    "- **Cleaner and maintainable code**: The framework forces to write your workflows in a functional style. That is, **each piece of functionality** must be packed into **a node, which must be a pure function**, i.e. a function whose result depends only on its inputs. If you manage to do this, your code will be much more reusable and reproduceable by other people. It also helps a lot in testing your code, since you can very easily test each piece individually.\n",
    "- **Easier to use by an external interface**: Graphical interfaces (GUI) can have a hard time interacting with code if there is no clear division of functionalities or the inputs to provide are very complex. Nodes are pieces of functionality with simple input fields. Whenever an input to a node is too complex, you can always generate it from another node, simplifying the input that the user needs to provide. Linking a node's output to another node's input is therefore a very efficient way of creating \"workchains\" from a GUI by providing only simple inputs.\n",
    "\n",
    "*Note*: The plan is to convert [`sisl-gui`](https://pypi.org/project/sisl-gui/) to use these nodes and workflows, so whatever that you develope within the framework will be usable automatically by the GUI.\n",
    "\n",
    "### Nodes\n",
    "\n",
    "In `sisl.nodes`, you have the `Node` class:"
   ]
  },
  {
   "cell_type": "code",
   "execution_count": null,
   "id": "bc48e2c4",
   "metadata": {},
   "outputs": [],
   "source": [
    "import sisl\n",
    "from sisl.nodes import Node"
   ]
  },
  {
   "cell_type": "markdown",
   "id": "1883c9ef",
   "metadata": {},
   "source": [
    "You can easily create a node from a function with the `from_func` method:"
   ]
  },
  {
   "cell_type": "code",
   "execution_count": null,
   "id": "ac09f8b8",
   "metadata": {},
   "outputs": [],
   "source": [
    "@Node.from_func\n",
    "def my_sum(a: int, b: int):\n",
    "    print(f\"SUMMING {a} + {b}\")\n",
    "    return a + b\n",
    "\n",
    "\n",
    "# Instead of using it as a decorator, if you want to keep the pristine function,\n",
    "# you can always create the node later:\n",
    "#\n",
    "# def my_sum(a: int, b: int):\n",
    "#     print(f\"SUMMING {a} + {b}\")\n",
    "#     return a + b\n",
    "#\n",
    "# my_sum_node = Node.from_func(my_sum)"
   ]
  },
  {
   "cell_type": "markdown",
   "id": "e8eae22d",
   "metadata": {},
   "source": [
    "By default, **nodes compute lazily**. That is they only run when you explicitly ask for the result. Therefore, calling your node won't run the function, it will just create a new node instance."
   ]
  },
  {
   "cell_type": "code",
   "execution_count": null,
   "id": "4f4006f4",
   "metadata": {},
   "outputs": [],
   "source": [
    "my_sum(2, 5)"
   ]
  },
  {
   "cell_type": "markdown",
   "id": "56348124",
   "metadata": {},
   "source": [
    "It is only when you call `.get()` on it that it will compute its result."
   ]
  },
  {
   "cell_type": "code",
   "execution_count": null,
   "id": "21c54a1c",
   "metadata": {},
   "outputs": [],
   "source": [
    "result = my_sum(2, 5)\n",
    "\n",
    "result.get()"
   ]
  },
  {
   "cell_type": "markdown",
   "id": "ed90e577",
   "metadata": {},
   "source": [
    "The result is then stored in the node, and if you keep requesting it the node will not need to recompute, it will just return the result:"
   ]
  },
  {
   "cell_type": "code",
   "execution_count": null,
   "id": "4ae1f5ce",
   "metadata": {},
   "outputs": [],
   "source": [
    "# This won't execute the function, so we won't see the printed message.\n",
    "result.get()"
   ]
  },
  {
   "cell_type": "markdown",
   "id": "78496815",
   "metadata": {},
   "source": [
    "Nodes will typically be part of a workflow. If you want to change an input in a section of your workflow, you should not need to substitute your node. Therefore, nodes have a method to change inputs:"
   ]
  },
  {
   "cell_type": "code",
   "execution_count": null,
   "id": "37dedda5",
   "metadata": {},
   "outputs": [],
   "source": [
    "result.update_inputs(a=8)"
   ]
  },
  {
   "cell_type": "markdown",
   "id": "acfb2817",
   "metadata": {},
   "source": [
    "And now, when you need the value again, it will understand that the stored output is outdated and recompute:"
   ]
  },
  {
   "cell_type": "code",
   "execution_count": null,
   "id": "cba981f5",
   "metadata": {},
   "outputs": [],
   "source": [
    "result.get()"
   ]
  },
  {
   "cell_type": "markdown",
   "id": "62e9a61b",
   "metadata": {},
   "source": [
    "A node's context defines how it behaves. One of the context keys is `lazy`, which determines whether the node should be recomputed each time its inputs change. By default it is `True`, which means it waits for its output to be needed. However, it can be set to `False`."
   ]
  },
  {
   "cell_type": "code",
   "execution_count": null,
   "id": "72b23330",
   "metadata": {},
   "outputs": [],
   "source": [
    "auto_result = my_sum(2, 5)\n",
    "\n",
    "auto_result.context.update(lazy=False)\n",
    "\n",
    "auto_result.get()\n",
    "auto_result.update_inputs(a=8)"
   ]
  },
  {
   "cell_type": "markdown",
   "id": "3d12f7e0",
   "metadata": {},
   "source": [
    "And now comes the most useful thing about nodes. If you pass a node as an input to another node, the **nodes are recursively resolved** until they reach a leaf that is not a node.\n",
    "\n",
    "In the following example, we will create a node that depends on another node. We will see that whenever you need the result for the final node, all its dependencies are computed."
   ]
  },
  {
   "cell_type": "code",
   "execution_count": null,
   "id": "f6cbd52b",
   "metadata": {},
   "outputs": [],
   "source": [
    "# Compute a first value\n",
    "first_val = my_sum(2, 5)\n",
    "# Use the first value to compute our final value\n",
    "final_val = my_sum(first_val, 5)\n",
    "\n",
    "final_val.get()"
   ]
  },
  {
   "cell_type": "markdown",
   "id": "9632904f",
   "metadata": {},
   "source": [
    "Exactly as in the case where we had only one node, if you update the inputs of any node, the results also get recomputed when the value is requested.\n",
    "\n",
    "In the following example we update the input of the first node. When we request the output of the last node, the first node goes like \"Wait a moment, I am outdated, I need to recompute my value\". Then when the value is recomputed, the final node goes on to also recompute its value with the new input."
   ]
  },
  {
   "cell_type": "code",
   "execution_count": null,
   "id": "82d31f33",
   "metadata": {},
   "outputs": [],
   "source": [
    "first_val.update_inputs(a=7)\n",
    "final_val.get()"
   ]
  },
  {
   "cell_type": "markdown",
   "id": "2430d05f",
   "metadata": {},
   "source": [
    "And if a node doesn't need to be recomputed, it will just return the stored output. In the following cell we update the inputs of our second node, but the first one still has the same inputs and therefore doesn't need to recompute:"
   ]
  },
  {
   "cell_type": "code",
   "execution_count": null,
   "id": "79a64b11",
   "metadata": {},
   "outputs": [],
   "source": [
    "final_val.update_inputs(b=20)\n",
    "final_val.get()"
   ]
  },
  {
   "cell_type": "markdown",
   "id": "acc2f1f4",
   "metadata": {},
   "source": [
    "When nodes are passed as inputs, they are not only recursively resolved. A **connection** between them is made so that they can **propagate information through the tree**. That is, when a node updates its inputs, it will send a signal up the tree that its output is outdated. In this way, if some node up the tree wants automatic recalculation, it will trigger a recompute of himself, which will recursively reach the outdated node.\n",
    "\n",
    "Let's create again two nodes, but this time the final one will have automatic recalculation:"
   ]
  },
  {
   "cell_type": "code",
   "execution_count": null,
   "id": "6717188b",
   "metadata": {},
   "outputs": [],
   "source": [
    "# Compute a first value\n",
    "first_val = my_sum(2, 5)\n",
    "# Use the first value to compute our final value, which we want to\n",
    "# automatically recompute when there are changes.\n",
    "final_val = my_sum(first_val, 5)\n",
    "final_val.context.update(lazy=False)\n",
    "\n",
    "# Get the value\n",
    "final_val.get()"
   ]
  },
  {
   "cell_type": "markdown",
   "id": "078fbcf7",
   "metadata": {},
   "source": [
    "Now, when we update the inputs of the first node, the second one will notice, and it will trigger a recompute on all the tree, just as if we had called its `.get()` method."
   ]
  },
  {
   "cell_type": "code",
   "execution_count": null,
   "id": "38e973d6",
   "metadata": {},
   "outputs": [],
   "source": [
    "# Update the inputs of the first node, which will trigger recalculation\n",
    "first_val.update_inputs(a=7)"
   ]
  },
  {
   "cell_type": "markdown",
   "id": "baeaeff7",
   "metadata": {},
   "source": [
    "This might be useful to create \"event listeners\" that enable live updating naturally. We might introduce \"async\" nodes at some point (?).\n",
    "\n",
    "### Workflows\n",
    "\n",
    "At this point, the need for somehow packing the workchain that we created arises naturally. What you would usually do is to wrap your code into a function. And that is also what we do here. We call this wrapper function a workflow, and workflows can be created just as nodes are:"
   ]
  },
  {
   "cell_type": "code",
   "execution_count": null,
   "id": "308f24da",
   "metadata": {},
   "outputs": [],
   "source": [
    "from sisl.nodes import Workflow\n",
    "\n",
    "\n",
    "def my_sum(a, b):\n",
    "    print(f\"SUMMING {a} + {b}\")\n",
    "    return a + b\n",
    "\n",
    "\n",
    "# Define our workchain as a workflow.\n",
    "@Workflow.from_func\n",
    "def triple_sum(a: int, b: int, c: int):\n",
    "    first_val = my_sum(a, b)\n",
    "    return my_sum(first_val, c)\n",
    "\n",
    "\n",
    "# Again, if you want to keep the pristine function,\n",
    "# don't use the decorator\n",
    "#\n",
    "# def triple_sum(a: int, b: int, c: int):\n",
    "#    first_val = my_sum(a, b)\n",
    "#    return my_sum(first_val, c)\n",
    "#\n",
    "# my_workflow = Workflow.from_func(triple_sum)"
   ]
  },
  {
   "cell_type": "markdown",
   "id": "b465e625",
   "metadata": {},
   "source": [
    "When a workflow is defined, the nodes within it are discovered and stored in `dryrun_nodes`:"
   ]
  },
  {
   "cell_type": "code",
   "execution_count": null,
   "id": "1da1d4ec",
   "metadata": {},
   "outputs": [],
   "source": [
    "wf_nodes = triple_sum.dryrun_nodes\n",
    "wf_nodes"
   ]
  },
  {
   "cell_type": "markdown",
   "id": "24c8e468",
   "metadata": {},
   "source": [
    "You can print them to get an idea of the nodes that you have there:"
   ]
  },
  {
   "cell_type": "code",
   "execution_count": null,
   "id": "aeea29c6",
   "metadata": {},
   "outputs": [],
   "source": [
    "print(wf_nodes)"
   ]
  },
  {
   "cell_type": "markdown",
   "id": "ebb6f767",
   "metadata": {},
   "source": [
    "One important thing that you can see here is that the workflow gives names to the nodes that it uses so that it can easily find them when needed. The name is usually just the node's name, but if there are multiple nodes of the same type it can get a bit more messy, because it adds a suffix `_1`, `_2`, `_3`...\n",
    "\n",
    "For that reason, it is always a good idea to give more human understandable names to nodes. On workflow creation, **variable assignments are automatically discovered**, and the workflow uses the name of the variable as an alias to find the node. In this way, you can very easily give more meaningful names to nodes so that you can find them afterwards!"
   ]
  },
  {
   "cell_type": "code",
   "execution_count": null,
   "id": "2245562b",
   "metadata": {},
   "outputs": [],
   "source": [
    "wf_nodes.first_val"
   ]
  },
  {
   "cell_type": "markdown",
   "id": "c6cb14a5",
   "metadata": {},
   "source": [
    "Accessing nodes of the workflows is nice, but often it is **difficult to get an idea of the whole workflow** if it gets a bit complex.\n",
    "\n",
    "It is always easier to **understand the workflow by visualizing it**. For that, you can use the `visualize` method of its `network` attribute, but you need `networkx` and `pyvis` installed in your computer, which you can install through `pip`."
   ]
  },
  {
   "cell_type": "code",
   "execution_count": null,
   "id": "fa7579c6",
   "metadata": {},
   "outputs": [],
   "source": [
    "triple_sum.network.visualize(notebook=True)"
   ]
  },
  {
   "cell_type": "markdown",
   "id": "3ffd6243",
   "metadata": {},
   "source": [
    "There are many tweaks that you can try on the visualization, but we are not going to enter into the details. You can play with it to find the most appropiate representation!\n",
    "\n",
    "Workflows are just a way of organizing nodes, so they work exactly the same. By default, they are lazy, so calling your workflow class will just get you an instance:"
   ]
  },
  {
   "cell_type": "markdown",
   "id": "8c934cef",
   "metadata": {},
   "source": [
    "Workflows are, unlike nodes, lazy by default. So when you call a workflow, you get a workflow instance:"
   ]
  },
  {
   "cell_type": "code",
   "execution_count": null,
   "id": "23a4cb80",
   "metadata": {},
   "outputs": [],
   "source": [
    "result = triple_sum(2, 3, 4)\n",
    "result"
   ]
  },
  {
   "cell_type": "markdown",
   "id": "560c1f8c",
   "metadata": {},
   "source": [
    "And then whenever you ask for the value, the workflow runs."
   ]
  },
  {
   "cell_type": "code",
   "execution_count": null,
   "id": "0eb25eef",
   "metadata": {},
   "outputs": [],
   "source": [
    "result.get()"
   ]
  },
  {
   "cell_type": "markdown",
   "id": "6b702fa6",
   "metadata": {},
   "source": [
    "Workflows link their inputs to inputs of the nodes they contain. In this way, if you update some input of the workflow, only the nodes that used that input will get updated, and only the necessary recomputation will be performed, exactly as we saw before."
   ]
  },
  {
   "cell_type": "code",
   "execution_count": null,
   "id": "d05a9539",
   "metadata": {},
   "outputs": [],
   "source": [
    "result.update_inputs(c=8)"
   ]
  },
  {
   "cell_type": "code",
   "execution_count": null,
   "id": "85a5b586",
   "metadata": {},
   "outputs": [],
   "source": [
    "result.get()"
   ]
  },
  {
   "cell_type": "markdown",
   "id": "0a777514",
   "metadata": {},
   "source": [
    "Once the workflow has been instantiated, it will contain **instantiated nodes**, which are different from the nodes that are produced during the discovery run."
   ]
  },
  {
   "cell_type": "code",
   "execution_count": null,
   "id": "d4ecbeae",
   "metadata": {},
   "outputs": [],
   "source": [
    "result.nodes"
   ]
  },
  {
   "cell_type": "markdown",
   "id": "db310bfa",
   "metadata": {},
   "source": [
    "One can imagine **reusing their result for something else**.\n",
    "\n",
    "As an example, we can create an automatically recalculating node that will just inform us whenever the intermediate value changes"
   ]
  },
  {
   "cell_type": "code",
   "execution_count": null,
   "id": "8330551a",
   "metadata": {},
   "outputs": [],
   "source": [
    "@Node.from_func(context={\"lazy\": False})\n",
    "def alert_change(val: int):\n",
    "    print(f\"VALUE CHANGED, it now is {val}\")\n",
    "\n",
    "\n",
    "# We feed the node that produces the intermediate value into our alert node\n",
    "my_alert = alert_change(result.nodes.first_val)\n",
    "\n",
    "# Now when we update the inputs of the workflow, the node will propagate the information through\n",
    "# our new node.\n",
    "result.update_inputs(a=10)"
   ]
  },
  {
   "cell_type": "markdown",
   "id": "7b266dbf",
   "metadata": {},
   "source": [
    "It sometimes might be useful to provide methods for a workflow. For that case, workflows can also be defined with class syntax, passing the workflow as a static method in the `function` method."
   ]
  },
  {
   "cell_type": "code",
   "execution_count": null,
   "id": "7250e251",
   "metadata": {},
   "outputs": [],
   "source": [
    "class TripleSum(Workflow):\n",
    "    # Define the function that runs the workflow, exactly as we did before.\n",
    "    @staticmethod\n",
    "    def function(a: int, b: int, c: int):\n",
    "        first_val = my_sum(a, b)\n",
    "        return my_sum(first_val, c)\n",
    "\n",
    "    # Now, we have the possibility of adding new methods to it.\n",
    "    def scale(self, factor: int):\n",
    "        self.update_inputs(\n",
    "            a=self.get_input(\"a\") * factor,\n",
    "            b=self.get_input(\"b\") * factor,\n",
    "            c=self.get_input(\"c\") * factor,\n",
    "        )"
   ]
  },
  {
   "cell_type": "markdown",
   "id": "4587423e",
   "metadata": {},
   "source": [
    "We can now use the workflow exactly as we did before."
   ]
  },
  {
   "cell_type": "code",
   "execution_count": null,
   "id": "fc020892",
   "metadata": {},
   "outputs": [],
   "source": [
    "result = TripleSum(2, 3, 4)\n",
    "result.get()"
   ]
  },
  {
   "cell_type": "markdown",
   "id": "c0b6390d",
   "metadata": {},
   "source": [
    "But with the added possibility of using this useful provided method:"
   ]
  },
  {
   "cell_type": "code",
   "execution_count": null,
   "id": "61ec8624",
   "metadata": {},
   "outputs": [],
   "source": [
    "result.scale(4)\n",
    "result.get()"
   ]
  },
  {
   "cell_type": "markdown",
   "id": "5c953306",
   "metadata": {},
   "source": [
    "It is important to know that **whatever calculation that you do in your workflow's code** will be **reconverted to a node**. This means that its inputs and outputs are stored. As a not so obvious example, if you sum three values, the intermediate sum will be stored as a node:"
   ]
  },
  {
   "cell_type": "code",
   "execution_count": null,
   "id": "95c5e1d2",
   "metadata": {},
   "outputs": [],
   "source": [
    "@Workflow.from_func\n",
    "def sum_triple(a, b, c):\n",
    "    val = a + b + c\n",
    "    return val\n",
    "\n",
    "\n",
    "sum_triple.network.visualize(\n",
    "    notebook=True,\n",
    ")"
   ]
  },
  {
   "cell_type": "markdown",
   "id": "21ccbd4c",
   "metadata": {},
   "source": [
    "So if you don't want that, you should pack everything that you don't want to be saved in a separate function, and then use it in the workflow:"
   ]
  },
  {
   "cell_type": "code",
   "execution_count": null,
   "id": "cff943fd",
   "metadata": {},
   "outputs": [],
   "source": [
    "def operation(a, b, c):\n",
    "    return a + b + c\n",
    "\n",
    "\n",
    "@Workflow.from_func\n",
    "def sum_triple(a, b, c):\n",
    "    val = operation(a, b, c)\n",
    "    return val\n",
    "\n",
    "\n",
    "sum_triple.network.visualize(notebook=True)"
   ]
  },
  {
   "cell_type": "code",
   "execution_count": null,
   "id": "39c74b3c",
   "metadata": {},
   "outputs": [],
   "source": []
  }
 ],
 "metadata": {
  "kernelspec": {
   "display_name": "Python 3 (ipykernel)",
   "language": "python",
   "name": "python3"
  },
  "language_info": {
   "codemirror_mode": {
    "name": "ipython",
    "version": 3
   },
   "file_extension": ".py",
   "mimetype": "text/x-python",
   "name": "python",
   "nbconvert_exporter": "python",
   "pygments_lexer": "ipython3",
   "version": "3.8.12"
  }
 },
 "nbformat": 4,
 "nbformat_minor": 5
}
